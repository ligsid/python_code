{
 "cells": [
  {
   "cell_type": "code",
   "execution_count": 1,
   "metadata": {},
   "outputs": [],
   "source": [
    "import statsmodels\n",
    "import scipy as sc\n",
    "import numpy as np\n",
    "import pandas as pd\n",
    "import statsmodels.formula.api as smf\n",
    "import statsmodels.stats.api as sms\n",
    "from statsmodels.graphics.regressionplots import plot_leverage_resid2\n",
    "import matplotlib.pyplot as plt"
   ]
  },
  {
   "cell_type": "code",
   "execution_count": 40,
   "metadata": {},
   "outputs": [
    {
     "data": {
      "text/html": [
       "<div>\n",
       "<style scoped>\n",
       "    .dataframe tbody tr th:only-of-type {\n",
       "        vertical-align: middle;\n",
       "    }\n",
       "\n",
       "    .dataframe tbody tr th {\n",
       "        vertical-align: top;\n",
       "    }\n",
       "\n",
       "    .dataframe thead th {\n",
       "        text-align: right;\n",
       "    }\n",
       "</style>\n",
       "<table border=\"1\" class=\"dataframe\">\n",
       "  <thead>\n",
       "    <tr style=\"text-align: right;\">\n",
       "      <th></th>\n",
       "      <th>ceb</th>\n",
       "      <th>age</th>\n",
       "      <th>educ</th>\n",
       "      <th>religion</th>\n",
       "      <th>idlnchld</th>\n",
       "      <th>knowmeth</th>\n",
       "      <th>usemeth</th>\n",
       "      <th>evermarr</th>\n",
       "      <th>agefm</th>\n",
       "      <th>heduc</th>\n",
       "      <th>urban</th>\n",
       "      <th>electric</th>\n",
       "      <th>radio</th>\n",
       "      <th>tv</th>\n",
       "      <th>bicycle</th>\n",
       "    </tr>\n",
       "  </thead>\n",
       "  <tbody>\n",
       "    <tr>\n",
       "      <th>0</th>\n",
       "      <td>0</td>\n",
       "      <td>18</td>\n",
       "      <td>10</td>\n",
       "      <td>catholic</td>\n",
       "      <td>4.0</td>\n",
       "      <td>1.0</td>\n",
       "      <td>1.0</td>\n",
       "      <td>0</td>\n",
       "      <td>NaN</td>\n",
       "      <td>NaN</td>\n",
       "      <td>1</td>\n",
       "      <td>1.0</td>\n",
       "      <td>1.0</td>\n",
       "      <td>1.0</td>\n",
       "      <td>1.0</td>\n",
       "    </tr>\n",
       "    <tr>\n",
       "      <th>1</th>\n",
       "      <td>2</td>\n",
       "      <td>43</td>\n",
       "      <td>11</td>\n",
       "      <td>protestant</td>\n",
       "      <td>2.0</td>\n",
       "      <td>1.0</td>\n",
       "      <td>1.0</td>\n",
       "      <td>1</td>\n",
       "      <td>20.0</td>\n",
       "      <td>14.0</td>\n",
       "      <td>1</td>\n",
       "      <td>1.0</td>\n",
       "      <td>1.0</td>\n",
       "      <td>1.0</td>\n",
       "      <td>1.0</td>\n",
       "    </tr>\n",
       "    <tr>\n",
       "      <th>2</th>\n",
       "      <td>0</td>\n",
       "      <td>49</td>\n",
       "      <td>4</td>\n",
       "      <td>spirit</td>\n",
       "      <td>4.0</td>\n",
       "      <td>1.0</td>\n",
       "      <td>0.0</td>\n",
       "      <td>1</td>\n",
       "      <td>22.0</td>\n",
       "      <td>1.0</td>\n",
       "      <td>1</td>\n",
       "      <td>1.0</td>\n",
       "      <td>1.0</td>\n",
       "      <td>0.0</td>\n",
       "      <td>0.0</td>\n",
       "    </tr>\n",
       "    <tr>\n",
       "      <th>3</th>\n",
       "      <td>0</td>\n",
       "      <td>24</td>\n",
       "      <td>12</td>\n",
       "      <td>other</td>\n",
       "      <td>2.0</td>\n",
       "      <td>1.0</td>\n",
       "      <td>0.0</td>\n",
       "      <td>0</td>\n",
       "      <td>NaN</td>\n",
       "      <td>NaN</td>\n",
       "      <td>1</td>\n",
       "      <td>1.0</td>\n",
       "      <td>1.0</td>\n",
       "      <td>1.0</td>\n",
       "      <td>1.0</td>\n",
       "    </tr>\n",
       "    <tr>\n",
       "      <th>4</th>\n",
       "      <td>3</td>\n",
       "      <td>32</td>\n",
       "      <td>13</td>\n",
       "      <td>other</td>\n",
       "      <td>3.0</td>\n",
       "      <td>1.0</td>\n",
       "      <td>1.0</td>\n",
       "      <td>1</td>\n",
       "      <td>24.0</td>\n",
       "      <td>12.0</td>\n",
       "      <td>1</td>\n",
       "      <td>1.0</td>\n",
       "      <td>1.0</td>\n",
       "      <td>1.0</td>\n",
       "      <td>1.0</td>\n",
       "    </tr>\n",
       "  </tbody>\n",
       "</table>\n",
       "</div>"
      ],
      "text/plain": [
       "   ceb  age  educ    religion  idlnchld  knowmeth  usemeth  evermarr  agefm  \\\n",
       "0    0   18    10    catholic       4.0       1.0      1.0         0    NaN   \n",
       "1    2   43    11  protestant       2.0       1.0      1.0         1   20.0   \n",
       "2    0   49     4      spirit       4.0       1.0      0.0         1   22.0   \n",
       "3    0   24    12       other       2.0       1.0      0.0         0    NaN   \n",
       "4    3   32    13       other       3.0       1.0      1.0         1   24.0   \n",
       "\n",
       "   heduc  urban  electric  radio   tv  bicycle  \n",
       "0    NaN      1       1.0    1.0  1.0      1.0  \n",
       "1   14.0      1       1.0    1.0  1.0      1.0  \n",
       "2    1.0      1       1.0    1.0  0.0      0.0  \n",
       "3    NaN      1       1.0    1.0  1.0      1.0  \n",
       "4   12.0      1       1.0    1.0  1.0      1.0  "
      ]
     },
     "execution_count": 40,
     "metadata": {},
     "output_type": "execute_result"
    }
   ],
   "source": [
    "data = pd.read_csv('botswana.tsv', sep='\\t')\n",
    "data.head()"
   ]
  },
  {
   "cell_type": "code",
   "execution_count": 41,
   "metadata": {},
   "outputs": [
    {
     "data": {
      "text/plain": [
       "{'catholic', 'other', 'protestant', 'spirit'}"
      ]
     },
     "execution_count": 41,
     "metadata": {},
     "output_type": "execute_result"
    }
   ],
   "source": [
    "set(data['religion'].values)"
   ]
  },
  {
   "cell_type": "code",
   "execution_count": 42,
   "metadata": {},
   "outputs": [
    {
     "data": {
      "text/plain": [
       "(1834, 15)"
      ]
     },
     "execution_count": 42,
     "metadata": {},
     "output_type": "execute_result"
    }
   ],
   "source": [
    "data.dropna().shape"
   ]
  },
  {
   "cell_type": "code",
   "execution_count": 43,
   "metadata": {},
   "outputs": [],
   "source": [
    "data['nevermarr'] = (data['agefm'].fillna(1) == 1).astype('int')"
   ]
  },
  {
   "cell_type": "code",
   "execution_count": 44,
   "metadata": {},
   "outputs": [],
   "source": [
    "data = data.drop('evermarr', axis=1)"
   ]
  },
  {
   "cell_type": "code",
   "execution_count": 45,
   "metadata": {},
   "outputs": [],
   "source": [
    "data['agefm'].fillna(0, inplace=True)"
   ]
  },
  {
   "cell_type": "code",
   "execution_count": 46,
   "metadata": {},
   "outputs": [],
   "source": [
    "data['heduc'] = data[data['nevermarr'] == 1]['heduc'].fillna(1)"
   ]
  },
  {
   "cell_type": "code",
   "execution_count": 47,
   "metadata": {},
   "outputs": [
    {
     "data": {
      "text/plain": [
       "2079"
      ]
     },
     "execution_count": 47,
     "metadata": {},
     "output_type": "execute_result"
    }
   ],
   "source": [
    "data['heduc'].shape[0] - data['heduc'].dropna().shape[0]"
   ]
  },
  {
   "cell_type": "code",
   "execution_count": 49,
   "metadata": {},
   "outputs": [],
   "source": [
    "def dropna(newcol,oldcol,cons):\n",
    "    data[newcol]=0\n",
    "    ind=data[data[oldcol].isnull()].index\n",
    "    data.loc[ind,newcol]=1\n",
    "    data[oldcol]=data[oldcol].fillna(cons)\n",
    "\n",
    "dropna('idlnchld_noans','idlnchld',-1)\n",
    "dropna('heduc_noans','heduc',-2)\n",
    "dropna('usemeth_noans','usemeth',-1)"
   ]
  },
  {
   "cell_type": "code",
   "execution_count": 51,
   "metadata": {},
   "outputs": [
    {
     "data": {
      "text/plain": [
       "78264"
      ]
     },
     "execution_count": 51,
     "metadata": {},
     "output_type": "execute_result"
    }
   ],
   "source": [
    "data.dropna(inplace=True)\n",
    "data.shape[0]*data.shape[1]"
   ]
  },
  {
   "cell_type": "code",
   "execution_count": 53,
   "metadata": {},
   "outputs": [
    {
     "data": {
      "text/plain": [
       "Index(['ceb', 'age', 'educ', 'religion', 'idlnchld', 'knowmeth', 'usemeth',\n",
       "       'agefm', 'heduc', 'urban', 'electric', 'radio', 'tv', 'bicycle',\n",
       "       'nevermarr', 'idlnchld_noans', 'heduc_noans', 'usemeth_noans'],\n",
       "      dtype='object')"
      ]
     },
     "execution_count": 53,
     "metadata": {},
     "output_type": "execute_result"
    }
   ],
   "source": [
    "data.columns"
   ]
  },
  {
   "cell_type": "code",
   "execution_count": 56,
   "metadata": {},
   "outputs": [
    {
     "name": "stdout",
     "output_type": "stream",
     "text": [
      "                            OLS Regression Results                            \n",
      "==============================================================================\n",
      "Dep. Variable:                    ceb   R-squared:                       0.639\n",
      "Model:                            OLS   Adj. R-squared:                  0.638\n",
      "Method:                 Least Squares   F-statistic:                     451.2\n",
      "Date:                Sun, 23 Aug 2020   Prob (F-statistic):               0.00\n",
      "Time:                        17:19:50   Log-Likelihood:                -7762.6\n",
      "No. Observations:                4348   AIC:                         1.556e+04\n",
      "Df Residuals:                    4330   BIC:                         1.568e+04\n",
      "Df Model:                          17                                         \n",
      "Covariance Type:            nonrobust                                         \n",
      "==========================================================================================\n",
      "                             coef    std err          t      P>|t|      [0.025      0.975]\n",
      "------------------------------------------------------------------------------------------\n",
      "Intercept                 -1.5374      0.113    -13.642      0.000      -1.758      -1.316\n",
      "religion[T.other]         -0.0934      0.083     -1.119      0.263      -0.257       0.070\n",
      "religion[T.protestant]    -0.0066      0.083     -0.079      0.937      -0.169       0.156\n",
      "religion[T.spirit]        -0.0225      0.078     -0.289      0.773      -0.175       0.130\n",
      "age                        0.1701      0.003     51.499      0.000       0.164       0.177\n",
      "educ                      -0.0868      0.007    -12.389      0.000      -0.101      -0.073\n",
      "idlnchld                   0.0812      0.011      7.363      0.000       0.060       0.103\n",
      "knowmeth                   0.5365      0.122      4.387      0.000       0.297       0.776\n",
      "usemeth                    0.6256      0.048     12.908      0.000       0.531       0.721\n",
      "agefm                     -0.0623      0.007     -9.445      0.000      -0.075      -0.049\n",
      "heduc                     -0.3763      0.042     -8.969      0.000      -0.459      -0.294\n",
      "urban                     -0.2455      0.047     -5.189      0.000      -0.338      -0.153\n",
      "electric                  -0.3224      0.077     -4.171      0.000      -0.474      -0.171\n",
      "radio                     -0.0371      0.051     -0.723      0.470      -0.138       0.063\n",
      "tv                        -0.2243      0.092     -2.426      0.015      -0.406      -0.043\n",
      "bicycle                    0.2164      0.051      4.282      0.000       0.117       0.316\n",
      "nevermarr                 -1.1503      0.070    -16.435      0.000      -1.288      -1.013\n",
      "idlnchld_noans             0.7014      0.153      4.570      0.000       0.401       1.002\n",
      "heduc_noans               -0.3870      0.046     -8.492      0.000      -0.476      -0.298\n",
      "usemeth_noans              0.7582      0.197      3.849      0.000       0.372       1.144\n",
      "==============================================================================\n",
      "Omnibus:                      215.309   Durbin-Watson:                   1.886\n",
      "Prob(Omnibus):                  0.000   Jarque-Bera (JB):              793.862\n",
      "Skew:                           0.024   Prob(JB):                    4.12e-173\n",
      "Kurtosis:                       5.093   Cond. No.                     9.63e+16\n",
      "==============================================================================\n",
      "\n",
      "Warnings:\n",
      "[1] Standard Errors assume that the covariance matrix of the errors is correctly specified.\n",
      "[2] The smallest eigenvalue is 4.75e-28. This might indicate that there are\n",
      "strong multicollinearity problems or that the design matrix is singular.\n"
     ]
    }
   ],
   "source": [
    "m1 = smf.ols('ceb~age+educ+religion+idlnchld+knowmeth+usemeth+agefm+heduc+urban+electric+radio+tv+bicycle+nevermarr+idlnchld_noans+heduc_noans+usemeth_noans',\n",
    "            data=data)\n",
    "fitted = m1.fit()\n",
    "print(fitted.summary())"
   ]
  },
  {
   "cell_type": "code",
   "execution_count": 59,
   "metadata": {},
   "outputs": [
    {
     "data": {
      "text/plain": [
       "1.9982296788640461e-227"
      ]
     },
     "execution_count": 59,
     "metadata": {},
     "output_type": "execute_result"
    }
   ],
   "source": [
    "sms.het_breuschpagan(fitted.resid, fitted.model.exog)[1]"
   ]
  },
  {
   "cell_type": "code",
   "execution_count": 60,
   "metadata": {},
   "outputs": [
    {
     "name": "stdout",
     "output_type": "stream",
     "text": [
      "Breusch-Pagan test: p=0.000000\n",
      "                            OLS Regression Results                            \n",
      "==============================================================================\n",
      "Dep. Variable:                    ceb   R-squared:                       0.638\n",
      "Model:                            OLS   Adj. R-squared:                  0.637\n",
      "Method:                 Least Squares   F-statistic:                     637.9\n",
      "Date:                Sun, 23 Aug 2020   Prob (F-statistic):               0.00\n",
      "Time:                        17:23:39   Log-Likelihood:                -7767.1\n",
      "No. Observations:                4348   AIC:                         1.556e+04\n",
      "Df Residuals:                    4335   BIC:                         1.564e+04\n",
      "Df Model:                          12                                         \n",
      "Covariance Type:            nonrobust                                         \n",
      "==================================================================================\n",
      "                     coef    std err          t      P>|t|      [0.025      0.975]\n",
      "----------------------------------------------------------------------------------\n",
      "Intercept         -1.5707      0.101    -15.497      0.000      -1.769      -1.372\n",
      "age                0.1699      0.003     51.811      0.000       0.163       0.176\n",
      "educ              -0.0891      0.007    -13.359      0.000      -0.102      -0.076\n",
      "idlnchld           0.0830      0.011      7.545      0.000       0.061       0.105\n",
      "knowmeth           0.5418      0.122      4.438      0.000       0.302       0.781\n",
      "usemeth            0.6304      0.048     13.020      0.000       0.535       0.725\n",
      "agefm             -0.0626      0.007     -9.488      0.000      -0.076      -0.050\n",
      "heduc             -0.3721      0.042     -8.921      0.000      -0.454      -0.290\n",
      "urban             -0.2569      0.047     -5.485      0.000      -0.349      -0.165\n",
      "electric          -0.4078      0.069     -5.879      0.000      -0.544      -0.272\n",
      "bicycle            0.2014      0.050      4.060      0.000       0.104       0.299\n",
      "nevermarr         -1.1712      0.063    -18.717      0.000      -1.294      -1.049\n",
      "idlnchld_noans     0.7090      0.153      4.626      0.000       0.408       1.010\n",
      "heduc_noans       -0.3995      0.042     -9.532      0.000      -0.482      -0.317\n",
      "usemeth_noans      0.7662      0.197      3.891      0.000       0.380       1.152\n",
      "==============================================================================\n",
      "Omnibus:                      214.566   Durbin-Watson:                   1.883\n",
      "Prob(Omnibus):                  0.000   Jarque-Bera (JB):              788.184\n",
      "Skew:                           0.027   Prob(JB):                    7.05e-172\n",
      "Kurtosis:                       5.085   Cond. No.                     1.86e+17\n",
      "==============================================================================\n",
      "\n",
      "Warnings:\n",
      "[1] Standard Errors assume that the covariance matrix of the errors is correctly specified.\n",
      "[2] The smallest eigenvalue is 1.27e-28. This might indicate that there are\n",
      "strong multicollinearity problems or that the design matrix is singular.\n"
     ]
    }
   ],
   "source": [
    "m2= smf.ols('ceb~age+educ+idlnchld+knowmeth+usemeth+agefm+heduc+urban+electric+bicycle+nevermarr+idlnchld_noans+heduc_noans+usemeth_noans',data=data)\n",
    "fitted2 = m2.fit()\n",
    "print ('Breusch-Pagan test: p=%f' % sms.het_breuschpagan(fitted2.resid, fitted2.model.exog)[1])\n",
    "print (fitted2.summary())"
   ]
  },
  {
   "cell_type": "code",
   "execution_count": 61,
   "metadata": {},
   "outputs": [
    {
     "data": {
      "text/plain": [
       "(1.8292908617227528, 0.1036097169930321, 5.0)"
      ]
     },
     "execution_count": 61,
     "metadata": {},
     "output_type": "execute_result"
    }
   ],
   "source": [
    "m2= smf.ols('ceb~age+educ+idlnchld+knowmeth+usemeth+agefm+heduc+urban+electric+bicycle+nevermarr+idlnchld_noans+heduc_noans+usemeth_noans',data=data)\n",
    "fitted2 = m2.fit(cov_type='HC1')\n",
    "m1.fit().compare_f_test(m2.fit())"
   ]
  },
  {
   "cell_type": "code",
   "execution_count": 62,
   "metadata": {},
   "outputs": [
    {
     "name": "stdout",
     "output_type": "stream",
     "text": [
      "                            OLS Regression Results                            \n",
      "==============================================================================\n",
      "Dep. Variable:                    ceb   R-squared:                       0.639\n",
      "Model:                            OLS   Adj. R-squared:                  0.638\n",
      "Method:                 Least Squares   F-statistic:                     451.2\n",
      "Date:                Sun, 23 Aug 2020   Prob (F-statistic):               0.00\n",
      "Time:                        17:25:54   Log-Likelihood:                -7762.6\n",
      "No. Observations:                4348   AIC:                         1.556e+04\n",
      "Df Residuals:                    4330   BIC:                         1.568e+04\n",
      "Df Model:                          17                                         \n",
      "Covariance Type:            nonrobust                                         \n",
      "==========================================================================================\n",
      "                             coef    std err          t      P>|t|      [0.025      0.975]\n",
      "------------------------------------------------------------------------------------------\n",
      "Intercept                 -1.5374      0.113    -13.642      0.000      -1.758      -1.316\n",
      "religion[T.other]         -0.0934      0.083     -1.119      0.263      -0.257       0.070\n",
      "religion[T.protestant]    -0.0066      0.083     -0.079      0.937      -0.169       0.156\n",
      "religion[T.spirit]        -0.0225      0.078     -0.289      0.773      -0.175       0.130\n",
      "age                        0.1701      0.003     51.499      0.000       0.164       0.177\n",
      "educ                      -0.0868      0.007    -12.389      0.000      -0.101      -0.073\n",
      "idlnchld                   0.0812      0.011      7.363      0.000       0.060       0.103\n",
      "knowmeth                   0.5365      0.122      4.387      0.000       0.297       0.776\n",
      "usemeth                    0.6256      0.048     12.908      0.000       0.531       0.721\n",
      "agefm                     -0.0623      0.007     -9.445      0.000      -0.075      -0.049\n",
      "heduc                     -0.3763      0.042     -8.969      0.000      -0.459      -0.294\n",
      "urban                     -0.2455      0.047     -5.189      0.000      -0.338      -0.153\n",
      "electric                  -0.3224      0.077     -4.171      0.000      -0.474      -0.171\n",
      "radio                     -0.0371      0.051     -0.723      0.470      -0.138       0.063\n",
      "tv                        -0.2243      0.092     -2.426      0.015      -0.406      -0.043\n",
      "bicycle                    0.2164      0.051      4.282      0.000       0.117       0.316\n",
      "nevermarr                 -1.1503      0.070    -16.435      0.000      -1.288      -1.013\n",
      "idlnchld_noans             0.7014      0.153      4.570      0.000       0.401       1.002\n",
      "heduc_noans               -0.3870      0.046     -8.492      0.000      -0.476      -0.298\n",
      "usemeth_noans              0.7582      0.197      3.849      0.000       0.372       1.144\n",
      "==============================================================================\n",
      "Omnibus:                      215.309   Durbin-Watson:                   1.886\n",
      "Prob(Omnibus):                  0.000   Jarque-Bera (JB):              793.862\n",
      "Skew:                           0.024   Prob(JB):                    4.12e-173\n",
      "Kurtosis:                       5.093   Cond. No.                     9.63e+16\n",
      "==============================================================================\n",
      "\n",
      "Warnings:\n",
      "[1] Standard Errors assume that the covariance matrix of the errors is correctly specified.\n",
      "[2] The smallest eigenvalue is 4.75e-28. This might indicate that there are\n",
      "strong multicollinearity problems or that the design matrix is singular.\n"
     ]
    }
   ],
   "source": [
    "m3= smf.ols('ceb~age+educ+idlnchld+knowmeth+agefm+heduc+urban+electric+bicycle+nevermarr+idlnchld_noans+heduc_noans',data=data)\n",
    "fitted3 = m3.fit(cov_type='HC1')\n",
    "print (fitted.summary())"
   ]
  },
  {
   "cell_type": "code",
   "execution_count": 63,
   "metadata": {},
   "outputs": [
    {
     "data": {
      "text/plain": [
       "(85.80023138395171, 2.8579012404914337e-37, 2.0)"
      ]
     },
     "execution_count": 63,
     "metadata": {},
     "output_type": "execute_result"
    }
   ],
   "source": [
    "m2.fit().compare_f_test(m3.fit())"
   ]
  },
  {
   "cell_type": "code",
   "execution_count": null,
   "metadata": {},
   "outputs": [],
   "source": []
  }
 ],
 "metadata": {
  "kernelspec": {
   "display_name": "Python 3",
   "language": "python",
   "name": "python3"
  },
  "language_info": {
   "codemirror_mode": {
    "name": "ipython",
    "version": 3
   },
   "file_extension": ".py",
   "mimetype": "text/x-python",
   "name": "python",
   "nbconvert_exporter": "python",
   "pygments_lexer": "ipython3",
   "version": "3.7.6"
  }
 },
 "nbformat": 4,
 "nbformat_minor": 4
}
