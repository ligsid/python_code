{
 "cells": [
  {
   "cell_type": "code",
   "execution_count": 12,
   "metadata": {},
   "outputs": [
    {
     "name": "stdout",
     "output_type": "stream",
     "text": [
      "Populating the interactive namespace from numpy and matplotlib\n"
     ]
    }
   ],
   "source": [
    "from sklearn import ensemble, model_selection, metrics, tree\n",
    "from sklearn.model_selection import learning_curve\n",
    "from sklearn import datasets\n",
    "from sklearn.model_selection import cross_val_score\n",
    "import numpy as np\n",
    "import pandas as pd\n",
    "\n",
    "%pylab inline"
   ]
  },
  {
   "cell_type": "code",
   "execution_count": 30,
   "metadata": {},
   "outputs": [],
   "source": [
    "def write_answer(answer, filename):\n",
    "    with open(filename, \"w\") as fout:\n",
    "        fout.write(str(answer))"
   ]
  },
  {
   "cell_type": "code",
   "execution_count": 7,
   "metadata": {},
   "outputs": [],
   "source": [
    "digits_data = datasets.load_digits()"
   ]
  },
  {
   "cell_type": "code",
   "execution_count": 22,
   "metadata": {},
   "outputs": [],
   "source": [
    "X = digits_data['data']\n",
    "y = digits_data['target']"
   ]
  },
  {
   "cell_type": "code",
   "execution_count": 31,
   "metadata": {},
   "outputs": [],
   "source": [
    "dectree = tree.DecisionTreeClassifier()\n",
    "score = cross_val_score(dectree, X, y, cv = 10)\n",
    "first_answer = score.mean()\n",
    "write_answer(first_answer, 'first_ans.txt')"
   ]
  },
  {
   "cell_type": "code",
   "execution_count": 33,
   "metadata": {},
   "outputs": [],
   "source": [
    "bagclass = ensemble.BaggingClassifier(n_estimators=100)\n",
    "compscore = cross_val_score(bagclass, X, y, cv = 10)\n",
    "write_answer(compscore.mean(), 'second_ans.txt')"
   ]
  },
  {
   "cell_type": "code",
   "execution_count": 39,
   "metadata": {},
   "outputs": [],
   "source": [
    "d = len(X[1])\n",
    "num = int(d**0.5)"
   ]
  },
  {
   "cell_type": "code",
   "execution_count": 44,
   "metadata": {},
   "outputs": [],
   "source": [
    "sqrbagclass = ensemble.BaggingClassifier(n_estimators=100, max_features=num)\n",
    "sqrscore = cross_val_score(sqrbagclass, X, y, cv = 10)\n",
    "write_answer(sqrscore.mean(), 'third_ans.txt')"
   ]
  },
  {
   "cell_type": "code",
   "execution_count": 43,
   "metadata": {},
   "outputs": [],
   "source": [
    "randbagclass = ensemble.BaggingClassifier(tree.DecisionTreeClassifier(max_features=num), n_estimators=100)\n",
    "randscore = cross_val_score(randbagclass, X, y, cv = 10)\n",
    "write_answer(randscore.mean(), 'fourth_ans.txt')"
   ]
  },
  {
   "cell_type": "code",
   "execution_count": 49,
   "metadata": {},
   "outputs": [
    {
     "data": {
      "text/plain": [
       "0.951659230620705"
      ]
     },
     "execution_count": 49,
     "metadata": {},
     "output_type": "execute_result"
    }
   ],
   "source": [
    "random_forest = ensemble.RandomForestClassifier(n_estimators=100, max_features=num)\n",
    "rand_forest_score = cross_val_score(random_forest, X, y, cv = 10)\n",
    "write_answer(rand_forest_score.mean(), 'fiveth_ans.txt')"
   ]
  },
  {
   "cell_type": "code",
   "execution_count": null,
   "metadata": {},
   "outputs": [],
   "source": []
  }
 ],
 "metadata": {
  "kernelspec": {
   "display_name": "Python 2",
   "language": "python",
   "name": "python2"
  },
  "language_info": {
   "codemirror_mode": {
    "name": "ipython",
    "version": 2
   },
   "file_extension": ".py",
   "mimetype": "text/x-python",
   "name": "python",
   "nbconvert_exporter": "python",
   "pygments_lexer": "ipython2",
   "version": "2.7.16"
  }
 },
 "nbformat": 4,
 "nbformat_minor": 2
}
