{
 "cells": [
  {
   "cell_type": "code",
   "execution_count": 24,
   "metadata": {},
   "outputs": [],
   "source": [
    "import pandas as pd\n",
    "import numpy as np\n",
    "import scipy as sp\n",
    "from scipy import spatial\n",
    "import re"
   ]
  },
  {
   "cell_type": "code",
   "execution_count": 25,
   "metadata": {},
   "outputs": [],
   "source": [
    "with open('sentences.txt') as input_file:\n",
    "    text = input_file.readlines()\n",
    "text = map(lambda x: x.strip().lower(), text)\n",
    "tokens = map(lambda s: filter(lambda x: x!= '', re.split('[^a-z]', s)), text)"
   ]
  },
  {
   "cell_type": "code",
   "execution_count": 26,
   "metadata": {},
   "outputs": [],
   "source": [
    "d = {}\n",
    "ind = 0\n",
    "for i in tokens:\n",
    "    for j in i:\n",
    "        if (j not in d):\n",
    "            d[j] = ind\n",
    "            ind+=1"
   ]
  },
  {
   "cell_type": "code",
   "execution_count": 27,
   "metadata": {
    "scrolled": true
   },
   "outputs": [],
   "source": [
    "arr = np.zeros((len(text), len(d)))\n",
    "for i in range(len(text)):\n",
    "    tmp = tokens[i]\n",
    "    for token in tmp:\n",
    "        arr[i][d[token]] += 1"
   ]
  },
  {
   "cell_type": "code",
   "execution_count": 28,
   "metadata": {},
   "outputs": [
    {
     "name": "stdout",
     "output_type": "stream",
     "text": [
      "{0: 0.0, 1: 0.9527544408738466, 2: 0.8644738145642124, 3: 0.8951715163278082, 4: 0.7770887149698589, 5: 0.9402385695332803, 6: 0.7327387580875756, 7: 0.9258750683338899, 8: 0.8842724875284311, 9: 0.9055088817476932, 10: 0.8328165362273942, 11: 0.8804771390665607, 12: 0.8396432548525454, 13: 0.8703592552895671, 14: 0.8740118423302576, 15: 0.9442721787424647, 16: 0.8406361854220809, 17: 0.956644501523794, 18: 0.9442721787424647, 19: 0.8885443574849294, 20: 0.8427572744917122, 21: 0.8250364469440588}\n"
     ]
    }
   ],
   "source": [
    "d2 = {}\n",
    "first_sentence = arr[0]\n",
    "for i in range(len(text)):\n",
    "    tmp_sentence = arr[i]\n",
    "    d2[i] = spatial.distance.cosine(first_sentence, tmp_sentence)\n",
    "print d2"
   ]
  },
  {
   "cell_type": "code",
   "execution_count": 29,
   "metadata": {},
   "outputs": [
    {
     "data": {
      "text/html": [
       "<div>\n",
       "<style scoped>\n",
       "    .dataframe tbody tr th:only-of-type {\n",
       "        vertical-align: middle;\n",
       "    }\n",
       "\n",
       "    .dataframe tbody tr th {\n",
       "        vertical-align: top;\n",
       "    }\n",
       "\n",
       "    .dataframe thead th {\n",
       "        text-align: right;\n",
       "    }\n",
       "</style>\n",
       "<table border=\"1\" class=\"dataframe\">\n",
       "  <thead>\n",
       "    <tr style=\"text-align: right;\">\n",
       "      <th></th>\n",
       "      <th>distance</th>\n",
       "      <th>sentence</th>\n",
       "    </tr>\n",
       "  </thead>\n",
       "  <tbody>\n",
       "    <tr>\n",
       "      <th>0</th>\n",
       "      <td>0.000000</td>\n",
       "      <td>in comparison to dogs, cats have not undergone...</td>\n",
       "    </tr>\n",
       "    <tr>\n",
       "      <th>1</th>\n",
       "      <td>0.952754</td>\n",
       "      <td>as cat simply catenates streams of bytes, it c...</td>\n",
       "    </tr>\n",
       "    <tr>\n",
       "      <th>2</th>\n",
       "      <td>0.864474</td>\n",
       "      <td>a common interactive use of cat for a single f...</td>\n",
       "    </tr>\n",
       "    <tr>\n",
       "      <th>3</th>\n",
       "      <td>0.895172</td>\n",
       "      <td>cats can hear sounds too faint or too high in ...</td>\n",
       "    </tr>\n",
       "    <tr>\n",
       "      <th>4</th>\n",
       "      <td>0.777089</td>\n",
       "      <td>in one, people deliberately tamed cats in a pr...</td>\n",
       "    </tr>\n",
       "    <tr>\n",
       "      <th>5</th>\n",
       "      <td>0.940239</td>\n",
       "      <td>the domesticated cat and its closest wild ance...</td>\n",
       "    </tr>\n",
       "    <tr>\n",
       "      <th>6</th>\n",
       "      <td>0.732739</td>\n",
       "      <td>domestic cats are similar in size to the other...</td>\n",
       "    </tr>\n",
       "    <tr>\n",
       "      <th>7</th>\n",
       "      <td>0.925875</td>\n",
       "      <td>however, if the output is piped or redirected,...</td>\n",
       "    </tr>\n",
       "    <tr>\n",
       "      <th>8</th>\n",
       "      <td>0.884272</td>\n",
       "      <td>cat with one named file is safer where human e...</td>\n",
       "    </tr>\n",
       "    <tr>\n",
       "      <th>9</th>\n",
       "      <td>0.905509</td>\n",
       "      <td>in terms of legibility, a sequence of commands...</td>\n",
       "    </tr>\n",
       "    <tr>\n",
       "      <th>10</th>\n",
       "      <td>0.832817</td>\n",
       "      <td>cat command is one of the basic commands that ...</td>\n",
       "    </tr>\n",
       "    <tr>\n",
       "      <th>11</th>\n",
       "      <td>0.880477</td>\n",
       "      <td>using cat command, the lines received from std...</td>\n",
       "    </tr>\n",
       "    <tr>\n",
       "      <th>12</th>\n",
       "      <td>0.839643</td>\n",
       "      <td>when you type simply cat command without any a...</td>\n",
       "    </tr>\n",
       "    <tr>\n",
       "      <th>13</th>\n",
       "      <td>0.870359</td>\n",
       "      <td>leopard was released on october 26, 2007 as th...</td>\n",
       "    </tr>\n",
       "    <tr>\n",
       "      <th>14</th>\n",
       "      <td>0.874012</td>\n",
       "      <td>according to apple, leopard contains over 300 ...</td>\n",
       "    </tr>\n",
       "    <tr>\n",
       "      <th>15</th>\n",
       "      <td>0.944272</td>\n",
       "      <td>as of mid 2010, some apple computers have firm...</td>\n",
       "    </tr>\n",
       "    <tr>\n",
       "      <th>16</th>\n",
       "      <td>0.840636</td>\n",
       "      <td>since apple moved to using intel processors in...</td>\n",
       "    </tr>\n",
       "    <tr>\n",
       "      <th>17</th>\n",
       "      <td>0.956645</td>\n",
       "      <td>os x mountain lion was released on july 25, 20...</td>\n",
       "    </tr>\n",
       "    <tr>\n",
       "      <th>18</th>\n",
       "      <td>0.944272</td>\n",
       "      <td>apple has released a small patch for the three...</td>\n",
       "    </tr>\n",
       "    <tr>\n",
       "      <th>19</th>\n",
       "      <td>0.888544</td>\n",
       "      <td>the mountain lion release marks the second tim...</td>\n",
       "    </tr>\n",
       "    <tr>\n",
       "      <th>20</th>\n",
       "      <td>0.842757</td>\n",
       "      <td>mac os x mountain lion installs in place, so y...</td>\n",
       "    </tr>\n",
       "    <tr>\n",
       "      <th>21</th>\n",
       "      <td>0.825036</td>\n",
       "      <td>the fifth major update to mac os x, leopard, c...</td>\n",
       "    </tr>\n",
       "  </tbody>\n",
       "</table>\n",
       "</div>"
      ],
      "text/plain": [
       "    distance                                           sentence\n",
       "0   0.000000  in comparison to dogs, cats have not undergone...\n",
       "1   0.952754  as cat simply catenates streams of bytes, it c...\n",
       "2   0.864474  a common interactive use of cat for a single f...\n",
       "3   0.895172  cats can hear sounds too faint or too high in ...\n",
       "4   0.777089  in one, people deliberately tamed cats in a pr...\n",
       "5   0.940239  the domesticated cat and its closest wild ance...\n",
       "6   0.732739  domestic cats are similar in size to the other...\n",
       "7   0.925875  however, if the output is piped or redirected,...\n",
       "8   0.884272  cat with one named file is safer where human e...\n",
       "9   0.905509  in terms of legibility, a sequence of commands...\n",
       "10  0.832817  cat command is one of the basic commands that ...\n",
       "11  0.880477  using cat command, the lines received from std...\n",
       "12  0.839643  when you type simply cat command without any a...\n",
       "13  0.870359  leopard was released on october 26, 2007 as th...\n",
       "14  0.874012  according to apple, leopard contains over 300 ...\n",
       "15  0.944272  as of mid 2010, some apple computers have firm...\n",
       "16  0.840636  since apple moved to using intel processors in...\n",
       "17  0.956645  os x mountain lion was released on july 25, 20...\n",
       "18  0.944272  apple has released a small patch for the three...\n",
       "19  0.888544  the mountain lion release marks the second tim...\n",
       "20  0.842757  mac os x mountain lion installs in place, so y...\n",
       "21  0.825036  the fifth major update to mac os x, leopard, c..."
      ]
     },
     "execution_count": 29,
     "metadata": {},
     "output_type": "execute_result"
    }
   ],
   "source": [
    "dist = pd.DataFrame.from_dict(d2, orient = 'index')\n",
    "dist.columns = ['distance']\n",
    "dist['sentence'] = map(lambda x: text[x], dist.index.values)\n",
    "dist"
   ]
  },
  {
   "cell_type": "code",
   "execution_count": 35,
   "metadata": {},
   "outputs": [
    {
     "name": "stdout",
     "output_type": "stream",
     "text": [
      "0.956644501524 0.952754440874\n"
     ]
    }
   ],
   "source": [
    "ser = pd.Series(dist['distance'])\n",
    "first = max(ser)\n",
    "second = max(ser.drop(17))\n",
    "print first, second"
   ]
  },
  {
   "cell_type": "code",
   "execution_count": 16,
   "metadata": {},
   "outputs": [
    {
     "ename": "NameError",
     "evalue": "name 'new_s' is not defined",
     "output_type": "error",
     "traceback": [
      "\u001b[0;31m---------------------------------------------------------------------------\u001b[0m",
      "\u001b[0;31mNameError\u001b[0m                                 Traceback (most recent call last)",
      "\u001b[0;32m<ipython-input-16-ae73e89a5fc0>\u001b[0m in \u001b[0;36m<module>\u001b[0;34m()\u001b[0m\n\u001b[1;32m      1\u001b[0m \u001b[0mf\u001b[0m \u001b[0;34m=\u001b[0m \u001b[0mopen\u001b[0m\u001b[0;34m(\u001b[0m\u001b[0;34m'submission-1.txt'\u001b[0m\u001b[0;34m,\u001b[0m \u001b[0;34m'w'\u001b[0m\u001b[0;34m)\u001b[0m\u001b[0;34m\u001b[0m\u001b[0m\n\u001b[0;32m----> 2\u001b[0;31m \u001b[0mf\u001b[0m\u001b[0;34m.\u001b[0m\u001b[0mwrite\u001b[0m\u001b[0;34m(\u001b[0m\u001b[0mnew_s\u001b[0m\u001b[0;34m)\u001b[0m\u001b[0;34m\u001b[0m\u001b[0m\n\u001b[0m",
      "\u001b[0;31mNameError\u001b[0m: name 'new_s' is not defined"
     ]
    }
   ],
   "source": [
    "f = open('submission-1.txt', 'w')\n",
    "f.write(new_s)"
   ]
  },
  {
   "cell_type": "code",
   "execution_count": null,
   "metadata": {},
   "outputs": [],
   "source": []
  }
 ],
 "metadata": {
  "kernelspec": {
   "display_name": "Python 2",
   "language": "python",
   "name": "python2"
  },
  "language_info": {
   "codemirror_mode": {
    "name": "ipython",
    "version": 2
   },
   "file_extension": ".py",
   "mimetype": "text/x-python",
   "name": "python",
   "nbconvert_exporter": "python",
   "pygments_lexer": "ipython2",
   "version": "2.7.16"
  }
 },
 "nbformat": 4,
 "nbformat_minor": 2
}
