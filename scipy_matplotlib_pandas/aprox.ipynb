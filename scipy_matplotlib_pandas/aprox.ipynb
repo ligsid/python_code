{
 "cells": [
  {
   "cell_type": "code",
   "execution_count": 96,
   "metadata": {},
   "outputs": [],
   "source": [
    "import numpy as np\n",
    "import matplotlib.pyplot as plt\n",
    "import pandas as pd\n",
    "%matplotlib inline"
   ]
  },
  {
   "cell_type": "markdown",
   "metadata": {},
   "source": [
    "$$f(x) = sin\\left(\\frac{x}{5}\\right)e^{\\left(\\frac{x}{10}\\right)} + 5e^{\\left(\\frac{-x}{2}\\right)}$$"
   ]
  },
  {
   "cell_type": "code",
   "execution_count": 52,
   "metadata": {},
   "outputs": [
    {
     "name": "stdout",
     "output_type": "stream",
     "text": [
      "3\n",
      "3 2 -1 4\n",
      "2 -1 5 23\n",
      "1 7 -1 5\n",
      "2.0 1.0000000000000002 3.9999999999999996\n"
     ]
    }
   ],
   "source": [
    "Ab = []\n",
    "n = int(input())\n",
    "for i in range(n):\n",
    "    Ab.append(list(map(float, raw_input().split())))\n",
    "b = []\n",
    "A = []\n",
    "for i in range(n):\n",
    "    b.append(Ab[i][-1])\n",
    "for i in range(n):\n",
    "    A.append(Ab[i][:-1])\n",
    "Am = np.array(A, dtype = float)\n",
    "bm = np.array(b, dtype = float)\n",
    "if (np.linalg.det(Am) == 0):\n",
    "    print('Система не имеет решений')\n",
    "else:\n",
    "    r = np.linalg.solve(Am,bm)\n",
    "    for i in r:\n",
    "        print i,"
   ]
  },
  {
   "cell_type": "code",
   "execution_count": 57,
   "metadata": {},
   "outputs": [
    {
     "name": "stdout",
     "output_type": "stream",
     "text": [
      "[ 1. 15.]\n"
     ]
    }
   ],
   "source": [
    "x = np.array(np.linspace(1,15,2))\n",
    "print x"
   ]
  },
  {
   "cell_type": "code",
   "execution_count": 108,
   "metadata": {},
   "outputs": [],
   "source": [
    "def f(x):\n",
    "    return np.sin(x/5.0)*np.e**(x/10.0)+5*np.e**(-x/2.0)"
   ]
  },
  {
   "cell_type": "code",
   "execution_count": 117,
   "metadata": {},
   "outputs": [
    {
     "name": "stdout",
     "output_type": "stream",
     "text": [
      "4\n"
     ]
    }
   ],
   "source": [
    "n = int(input())\n",
    "#x = np.array(np.linspace(1,15,n))\n",
    "x = np.array([1,4,10,15])\n",
    "b = []\n",
    "A = []\n",
    "for i in range(n):\n",
    "    b.append(f(x[i]))\n",
    "y = []\n",
    "for i in range(n):\n",
    "    y.append([0]*n)\n",
    "for i in range(n):\n",
    "    for j in range(n):\n",
    "        y[i][j] = x[i]**(j)\n",
    "Am = np.array(y, dtype = float)\n",
    "bm = np.array(b, dtype = float)"
   ]
  },
  {
   "cell_type": "code",
   "execution_count": 125,
   "metadata": {},
   "outputs": [
    {
     "name": "stdout",
     "output_type": "stream",
     "text": [
      "4.362641535118072 -1.2955258656948436 0.1933368470215116 -0.008235651173320552\n"
     ]
    }
   ],
   "source": [
    "r = np.linalg.solve(Am, bm)\n",
    "for i in r:\n",
    "    print i,\n",
    "f = open('submission-2.txt', 'w')\n",
    "for i in r:\n",
    "    f.write(str(i)+' ')\n",
    "f.close()"
   ]
  },
  {
   "cell_type": "code",
   "execution_count": 115,
   "metadata": {},
   "outputs": [],
   "source": [
    "def g(x,c):\n",
    "    tmp = []\n",
    "    for i in range(len(c)):\n",
    "        tmp.append(c[i]*(x**i))\n",
    "    return sum(tmp)"
   ]
  },
  {
   "cell_type": "code",
   "execution_count": 116,
   "metadata": {},
   "outputs": [
    {
     "data": {
      "image/png": "[encoded data removed]",
      "text/plain": [
       "<Figure size 432x288 with 1 Axes>"
      ]
     },
     "metadata": {
      "needs_background": "light"
     },
     "output_type": "display_data"
    }
   ],
   "source": [
    "xn = np.arange(1,15,0.5)\n",
    "plt.plot(xn, g(xn, r))\n",
    "plt.xlabel(r'$x$')\n",
    "plt.ylabel(r'$f(x)$')\n",
    "plt.show()"
   ]
  },
  {
   "cell_type": "code",
   "execution_count": null,
   "metadata": {},
   "outputs": [],
   "source": []
  }
 ],
 "metadata": {
  "kernelspec": {
   "display_name": "Python 2",
   "language": "python",
   "name": "python2"
  },
  "language_info": {
   "codemirror_mode": {
    "name": "ipython",
    "version": 2
   },
   "file_extension": ".py",
   "mimetype": "text/x-python",
   "name": "python",
   "nbconvert_exporter": "python",
   "pygments_lexer": "ipython2",
   "version": "2.7.16"
  }
 },
 "nbformat": 4,
 "nbformat_minor": 2
}
